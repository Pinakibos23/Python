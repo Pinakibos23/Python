{
 "cells": [
  {
   "cell_type": "code",
   "execution_count": 9,
   "metadata": {},
   "outputs": [
    {
     "name": "stdout",
     "output_type": "stream",
     "text": [
      "5, 4, 3, 2, 1, \n",
      "1, 2, 3, 4, 5, \n",
      "5, 4, 3, 2, 1, \n",
      "1, 2, 3, 4, 5, \n",
      "5, 4, 3, 2, 1, \n"
     ]
    }
   ],
   "source": [
    "i = 1\n",
    "j = 1\n",
    "\n",
    "while i < 6:\n",
    "    while j < 6:\n",
    "        if j % 2 == 0:\n",
    "            for k in range(1, 6):\n",
    "                print(k, end = \", \")\n",
    "        else:\n",
    "            for l in range(5, 0, -1):\n",
    "                print(l, end =\", \")\n",
    "        print()\n",
    "        j += 1\n",
    "    \n",
    "    i += 1"
   ]
  },
  {
   "cell_type": "code",
   "execution_count": 8,
   "metadata": {},
   "outputs": [
    {
     "name": "stdout",
     "output_type": "stream",
     "text": [
      "1 2 3 4 5 \n",
      "5 4 3 2 \n",
      "2 3 4 \n",
      "5 4 \n",
      "3 \n"
     ]
    }
   ],
   "source": [
    "#range variables\n",
    "ascend_ord = 6\n",
    "descend_ord = 1\n",
    "ascend_ord_start = 1\n",
    "descend_ord_start = 5\n",
    "\n",
    "#For-loop based \"Algorithm\"\n",
    "for outer_loop in range(1, 6):\n",
    "    if outer_loop % 2 == 0:\n",
    "        for pattern_loop_i in range(descend_ord_start, descend_ord, -1):\n",
    "            print(pattern_loop_i, end = \" \")\n",
    "        descend_ord += 2\n",
    "        print()\n",
    "    else:\n",
    "        for pattern_loop_ii in range(ascend_ord_start, ascend_ord):\n",
    "            print(pattern_loop_ii, end = \" \")\n",
    "        ascend_ord_start += 1\n",
    "        ascend_ord -= 1\n",
    "        print()\n",
    "\n",
    "\n"
   ]
  },
  {
   "cell_type": "code",
   "execution_count": 9,
   "metadata": {},
   "outputs": [
    {
     "name": "stdout",
     "output_type": "stream",
     "text": [
      "A    B    C    D    E    \n",
      "A A  A B  A C  A D  A E  \n",
      "B A  B B  B C  B D  B E  \n",
      "C A  C B  C C  C D  C E  \n",
      "D A  D B  D C  D D  D E  \n",
      "E A  E B  E C  E D  E E  \n"
     ]
    }
   ],
   "source": [
    "for i in range(64, 70):\n",
    "    for j in range(65, 70):\n",
    "        if i == 64:\n",
    "            print(chr(j), end = \"    \")\n",
    "        else:\n",
    "            x = chr(i)\n",
    "            y = chr(j)\n",
    "            print(x, y, end = \"  \")\n",
    "    print()"
   ]
  }
 ],
 "metadata": {
  "interpreter": {
   "hash": "07ea9309207826d91aaca5d52459418df802073410802cef8e54dc9f6a4c51a7"
  },
  "kernelspec": {
   "display_name": "Python 3.9.6 64-bit",
   "language": "python",
   "name": "python3"
  },
  "language_info": {
   "codemirror_mode": {
    "name": "ipython",
    "version": 3
   },
   "file_extension": ".py",
   "mimetype": "text/x-python",
   "name": "python",
   "nbconvert_exporter": "python",
   "pygments_lexer": "ipython3",
   "version": "3.9.6"
  },
  "orig_nbformat": 4
 },
 "nbformat": 4,
 "nbformat_minor": 2
}
