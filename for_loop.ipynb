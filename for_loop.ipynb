{
 "cells": [
  {
   "cell_type": "code",
   "execution_count": 9,
   "metadata": {},
   "outputs": [
    {
     "name": "stdout",
     "output_type": "stream",
     "text": [
      "5, 4, 3, 2, 1, \n",
      "1, 2, 3, 4, 5, \n",
      "5, 4, 3, 2, 1, \n",
      "1, 2, 3, 4, 5, \n",
      "5, 4, 3, 2, 1, \n"
     ]
    }
   ],
   "source": [
    "i = 1\n",
    "j = 1\n",
    "\n",
    "while i < 6:\n",
    "    while j < 6:\n",
    "        if j % 2 == 0:\n",
    "            for k in range(1, 6):\n",
    "                print(k, end = \", \")\n",
    "        else:\n",
    "            for l in range(5, 0, -1):\n",
    "                print(l, end =\", \")\n",
    "        print()\n",
    "        j += 1\n",
    "    \n",
    "    i += 1"
   ]
  }
 ],
 "metadata": {
  "interpreter": {
   "hash": "07ea9309207826d91aaca5d52459418df802073410802cef8e54dc9f6a4c51a7"
  },
  "kernelspec": {
   "display_name": "Python 3.9.6 64-bit",
   "language": "python",
   "name": "python3"
  },
  "language_info": {
   "codemirror_mode": {
    "name": "ipython",
    "version": 3
   },
   "file_extension": ".py",
   "mimetype": "text/x-python",
   "name": "python",
   "nbconvert_exporter": "python",
   "pygments_lexer": "ipython3",
   "version": "3.9.6"
  },
  "orig_nbformat": 4
 },
 "nbformat": 4,
 "nbformat_minor": 2
}
